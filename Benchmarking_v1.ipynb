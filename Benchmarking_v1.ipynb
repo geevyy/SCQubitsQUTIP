{
 "cells": [
  {
   "cell_type": "markdown",
   "id": "1bad0105",
   "metadata": {},
   "source": [
    "Author: Nicholas Bornman"
   ]
  },
  {
   "cell_type": "markdown",
   "id": "2658312f-51b3-4ad2-aa14-5aa3e2e6acd3",
   "metadata": {
    "deletable": false,
    "editable": true,
    "slideshow": {
     "slide_type": ""
    },
    "tags": []
   },
   "source": [
    "# Preamble"
   ]
  },
  {
   "cell_type": "code",
   "execution_count": null,
   "id": "56fb439a-9645-47be-98cd-e9ba6432d434",
   "metadata": {
    "editable": true,
    "slideshow": {
     "slide_type": ""
    },
    "tags": []
   },
   "outputs": [],
   "source": [
    "import os\n",
    "import datetime\n",
    "\n",
    "import numpy as np\n",
    "import matplotlib.pyplot as plt\n",
    "from matplotlib.ticker import MaxNLocator\n",
    "from IPython.display import display, clear_output\n",
    "from collections import namedtuple"
   ]
  },
  {
   "cell_type": "code",
   "execution_count": null,
   "id": "cb2be110-7819-4fa1-bc1e-d78cc69f1d39",
   "metadata": {
    "tags": []
   },
   "outputs": [],
   "source": [
    "from qick.pyro import make_proxy\n",
    "\n",
    "from qickutils.experiment import *\n",
    "from qickutils.dataset import Dataset, process_packages\n",
    "Dataset.pull_packages = False"
   ]
  },
  {
   "cell_type": "markdown",
   "id": "e2fd846f",
   "metadata": {},
   "source": [
    "### QICK"
   ]
  },
  {
   "cell_type": "code",
   "execution_count": null,
   "id": "a7d968fc",
   "metadata": {},
   "outputs": [],
   "source": [
    "proxy_name = \"board0\"\n",
    "soc, soccfg = make_proxy(ns_host=\"192.168.5.2\", ns_port=8888, proxy_name=proxy_name)\n",
    "print(soccfg)"
   ]
  },
  {
   "cell_type": "code",
   "execution_count": null,
   "id": "98215ba2",
   "metadata": {},
   "outputs": [],
   "source": [
    "import scipy.fftpack\n",
    "from scipy.signal import find_peaks\n",
    "from scipy.optimize import curve_fit\n",
    "from scipy.signal import find_peaks, savgol_filter"
   ]
  },
  {
   "cell_type": "markdown",
   "id": "77316036",
   "metadata": {},
   "source": [
    "# Single qubit randomised benchmarking"
   ]
  },
  {
   "cell_type": "markdown",
   "id": "5afc301b",
   "metadata": {},
   "source": [
    "## Single-qubit Clifford group"
   ]
  },
  {
   "cell_type": "markdown",
   "id": "a563e05b",
   "metadata": {},
   "source": [
    "The following dictionary below is the Clifford group for a single qubit. The group itself is unique, but the exact choice of group generators can vary. The convention I've chosen follows closely the table given on pages 68-69 of this thesis: https://qudev.phys.ethz.ch/static/content/science/Documents/master/Samuel_Haberthur_Masterthesis.pdf."
   ]
  },
  {
   "cell_type": "markdown",
   "id": "bc451034",
   "metadata": {},
   "source": [
    "Each key in the \"single_qubit_clifford_gates\" dictionary below denotes a gate in the Clifford group, and the corresponding value is the matrix representation of that gate. The 24 gates, in practice, consist of one or more physical pulses or virtual operations (mainly in the case of Z-type gates). When the keys (i.e. gates) consist of a number of pulses (i.e. when there is a comma separating distinct pulses), the pulse key comprising the gate should be read from left to right, which corresponds with the order IN TIME in which the pulses are applied to the qubit. For example, for the \"X,-Y/2\" key/gate, we first send out an X pulse (namely a $\\pi$ pulse in the I quadrature), followed by a -Y/2 pulse (a $-\\pi/2$ pulse in the Q quadrature)."
   ]
  },
  {
   "cell_type": "code",
   "execution_count": null,
   "id": "d49596d8",
   "metadata": {},
   "outputs": [],
   "source": [
    "single_qubit_clifford_gates = {\n",
    "    \"I\": np.array([[-1j, 0],[0, -1j]]),\n",
    "    \"X\": np.array([[0, -1j],[-1j, 0]]),\n",
    "    \"Y\": np.array([[0, -1],[1, 0]]),\n",
    "    \"Z\": np.array([[-1j, 0],[0, 1j]]),\n",
    "    \"X/2\": (1/np.sqrt(2)) * np.array([[1, -1j],[-1j, 1]]),\n",
    "    \"Y/2\": (1/np.sqrt(2)) * np.array([[1, -1],[1, 1]]),\n",
    "    \"Z/2\": (1/np.sqrt(2)) * np.array([[1-1j, 0],[0, 1+1j]]),\n",
    "    \"-X/2\": (1/np.sqrt(2)) * np.array([[1, 1j],[1j, 1]]),\n",
    "    \"-Y/2\": (1/np.sqrt(2)) * np.array([[1, 1],[-1, 1]]),\n",
    "    \"-Z/2\": (1/np.sqrt(2)) * np.array([[1+1j, 0],[0, 1-1j]]),\n",
    "    \"X/2,Y/2\": (1/2) * np.array([[1+1j, -1-1j],[1-1j, 1-1j]]),\n",
    "    \"X/2,-Y/2\": (1/2) * np.array([[1-1j, 1-1j],[-1-1j, 1+1j]]),\n",
    "    \"-X/2,Y/2\": (1/2) * np.array([[1-1j, -1+1j],[1+1j, 1+1j]]),\n",
    "    \"-X/2,-Y/2\": (1/2) * np.array([[1+1j, 1+1j],[-1+1j, 1-1j]]),\n",
    "    \"Y/2,X/2\": (1/2) * np.array([[1-1j, -1-1j],[1-1j, 1+1j]]),\n",
    "    \"Y/2,-X/2\": (1/2) * np.array([[1+1j, -1+1j],[1+1j, 1-1j]]),\n",
    "    \"-Y/2,X/2\": (1/2) * np.array([[1+1j, 1-1j],[-1-1j, 1-1j]]),\n",
    "    \"-Y/2,-X/2\": (1/2) * np.array([[1-1j, 1+1j],[-1+1j, 1+1j]]),\n",
    "    \"X,Y/2\": (1/np.sqrt(2)) * np.array([[1j, -1j],[-1j, -1j]]),\n",
    "    \"X,-Y/2\": (1/np.sqrt(2)) * np.array([[-1j, -1j],[-1j, 1j]]),\n",
    "    \"Y,X/2\": (1/np.sqrt(2)) * np.array([[-1j, -1],[1, 1j]]),\n",
    "    \"Y,-X/2\": (1/np.sqrt(2)) * np.array([[1j, -1],[1, -1j]]),\n",
    "    \"X/2,Y/2,X/2\": (1/np.sqrt(2)) * np.array([[0, -1-1j],[1-1j, 0]]),\n",
    "    \"-X/2,Y/2,-X/2\": (1/np.sqrt(2)) * np.array([[0, -1+1j],[1+1j, 0]])\n",
    "    }"
   ]
  },
  {
   "cell_type": "markdown",
   "id": "ca31c16e",
   "metadata": {},
   "source": [
    "For convenience we create a list of the keys of the above Clifford gates"
   ]
  },
  {
   "cell_type": "code",
   "execution_count": null,
   "id": "e97d0c7c",
   "metadata": {},
   "outputs": [],
   "source": [
    "clifford_group = [k for k in single_qubit_clifford_gates.keys()]\n",
    "\n",
    "clifford_group"
   ]
  },
  {
   "cell_type": "markdown",
   "id": "bd646222",
   "metadata": {},
   "source": [
    "The \"construct_cayley_table\" function below constructs the Cayley table (https://en.wikipedia.org/wiki/Cayley_table) for the input group, which must be of the same form (namely a dictionary of string keys and numpy array values) as the above \"single_qubit_clifford_gates\". A Cayley table is essentially the lookup table for all possible products of two elements in the gateset. This function will be useful in the future when we want to move onto two-qubit gates."
   ]
  },
  {
   "cell_type": "code",
   "execution_count": null,
   "id": "a382a5c8",
   "metadata": {},
   "outputs": [],
   "source": [
    "def construct_cayley_table(gateset):\n",
    "\n",
    "    cayley_dict = {}\n",
    "\n",
    "    # iterations=0\n",
    "\n",
    "    iden = np.identity(2)\n",
    "\n",
    "    for k_row, v_row in gateset.items():\n",
    "        for k_col, v_col in gateset.items():\n",
    "\n",
    "            # iterations += 1\n",
    "\n",
    "            ans = v_col @ v_row\n",
    "\n",
    "            # print(f\"Current iteration: {iterations}\\n\")\n",
    "            # print(f\"Searching for {ans}\\n\")\n",
    "\n",
    "            found_match = False\n",
    "\n",
    "            matches=0\n",
    "\n",
    "            for k_tar, v_tar in gateset.items():\n",
    "\n",
    "                # For the matching group element v_tar which corresponds to ans,\n",
    "                # 'mat' below should equal the identity, up to some phase\n",
    "                mat = ans.conj().T @ v_tar\n",
    "\n",
    "                # mat with global phase removed\n",
    "                mat = np.exp(-1j* np.angle(mat[0,0])) * mat\n",
    "\n",
    "                if np.allclose(mat, iden, atol=1e-06):\n",
    "                    cayley_dict[(k_row, k_col)] = k_tar\n",
    "                    found_match = True\n",
    "                    matches += 1\n",
    "\n",
    "            # print(f\"Found match for iteration {iterations}? {found_match}\")\n",
    "            \n",
    "            if not found_match or matches != 1:\n",
    "                raise Exception(f\"Didn't find a match for product ans: {ans},\\nwhich this scheme really should have\\nor found too many matches\")\n",
    "    \n",
    "    # check integrity of Cayley table\n",
    "\n",
    "    gates = [k for k in gateset.keys()]\n",
    "    gates.sort()\n",
    "\n",
    "    for gate in gates:\n",
    "\n",
    "        list_temp = []\n",
    "\n",
    "        for k, v in cayley_dict.items():\n",
    "            if k[0] == gate:\n",
    "                list_temp.append(v)\n",
    "        \n",
    "        list_temp.sort()\n",
    "\n",
    "        if list_temp != gates:\n",
    "            raise Exception(f\"The Cayley tale row corresponding to {gate} does not contain every element of the Clifford group\")\n",
    "\n",
    "    return cayley_dict"
   ]
  },
  {
   "cell_type": "markdown",
   "id": "e6f721e9",
   "metadata": {},
   "source": [
    "Construct the Cayley table for the single qubit Clifford group."
   ]
  },
  {
   "cell_type": "code",
   "execution_count": null,
   "id": "12a3fb58",
   "metadata": {},
   "outputs": [],
   "source": [
    "single_qubit_cayley_table = construct_cayley_table(single_qubit_clifford_gates)"
   ]
  },
  {
   "cell_type": "markdown",
   "id": "10ebc8d2",
   "metadata": {},
   "source": [
    "Use the Cayley table to compute the `inverse' dictionary of the input Clifford gateset: the key of the dictionary is a Clifford group element, whereas the value is the inverse group element."
   ]
  },
  {
   "cell_type": "code",
   "execution_count": null,
   "id": "013601c8",
   "metadata": {},
   "outputs": [],
   "source": [
    "def compute_clifford_inverses(cayley_table, input_gateset):\n",
    "\n",
    "    inverses = {}\n",
    "\n",
    "    for gate in input_gateset:\n",
    "\n",
    "        for k, v in cayley_table.items():\n",
    "            if k[0] == gate and v == \"I\":\n",
    "                inverses[gate] = k[1]\n",
    "                break\n",
    "    \n",
    "    return inverses"
   ]
  },
  {
   "cell_type": "code",
   "execution_count": null,
   "id": "b4037858",
   "metadata": {},
   "outputs": [],
   "source": [
    "clifford_set_inverses = compute_clifford_inverses(single_qubit_cayley_table, clifford_group)\n",
    "\n",
    "clifford_set_inverses"
   ]
  },
  {
   "cell_type": "markdown",
   "id": "ced5da19",
   "metadata": {},
   "source": [
    "## Random Clifford sequence"
   ]
  },
  {
   "cell_type": "markdown",
   "id": "6322d5bf",
   "metadata": {},
   "source": [
    "We'll need to construct random sequences of $n$ Clifford gates (so the sequence length is obviously $n$). That's what the following does.\n",
    "\n",
    "Every time you call the following function, it should output a new random sequence of $n$ gates."
   ]
  },
  {
   "cell_type": "code",
   "execution_count": null,
   "id": "8e01b80a",
   "metadata": {},
   "outputs": [],
   "source": [
    "import random\n",
    "\n",
    "random.seed(1234) # choose an initial starting seed - no need to change this number"
   ]
  },
  {
   "cell_type": "code",
   "execution_count": null,
   "id": "a24bb1f2",
   "metadata": {},
   "outputs": [],
   "source": [
    "n = 5\n",
    "\n",
    "random.choices(clifford_group, k=n)"
   ]
  },
  {
   "cell_type": "markdown",
   "id": "8d8306a2",
   "metadata": {},
   "source": [
    "## Single qubit pulse library"
   ]
  },
  {
   "cell_type": "markdown",
   "id": "8df932a7",
   "metadata": {},
   "source": [
    "I've assumed that all qubit drive pulse waveforms will be Gaussians, and that we'll scale the waveform's gain and length and change its phase in order to create the pulses that'll be used to construct the Clifford group elements."
   ]
  },
  {
   "cell_type": "code",
   "execution_count": null,
   "id": "030494e0",
   "metadata": {},
   "outputs": [],
   "source": [
    "def gauss(mu, sigma, length, maxv=32_000):\n",
    "\n",
    "    x = np.arange(0, length)\n",
    "    y = 1/np.sqrt(2*np.pi*sigma**2) * np.exp(-(x-mu)**2/2/sigma**2)\n",
    "    y = y-y[0]\n",
    "    y = (y/np.max(y))*maxv\n",
    "\n",
    "    return y\n",
    "\n",
    "def gaussian_pulse(sigma, mu=None):\n",
    "\n",
    "    if mu == None:\n",
    "        mu = 2*sigma\n",
    "\n",
    "    return gauss(16*mu, 16*sigma, 2*16*mu)"
   ]
  },
  {
   "cell_type": "code",
   "execution_count": null,
   "id": "c35c98fb",
   "metadata": {},
   "outputs": [],
   "source": [
    "# sigma_temporary= # this is the sigm\n",
    "# mu_temporary=2*sigma_temporary\n",
    "\n",
    "# plt.plot(gaussian_pulse(sigma_temporary, mu_temporary))"
   ]
  },
  {
   "cell_type": "markdown",
   "id": "6a795145",
   "metadata": {},
   "source": [
    "The \"create_pulse_dictionary\" method below outputs the dictionary of fundamental single qubit pulses used to construct our Clifford group. It takes self as an argument, since this method will be called within the forthcoming SingleQubitRB class itself.\n",
    "\n",
    "For the $Z$ and $\\pm Z/2$ pulses, we simply change the reference phase of all subsequent carrier tones, whereas for the $X$, $Y$, $\\pm X/2$, $\\pm Y/2$ pulses, we simply set the Guassian waveform in either the I or Q quadrature (with a potential minus sign). For the $I$ \"pulse\" (i.e. doing nothing), we just wait the length of a single $\\pi$ pulse (by setting the gain of an otherwise $X$ pulse to 0).\n",
    "\n",
    "Note that we could also create the $Z$-type gates using combinations of $X$-type and $Y$-type pulses, and remove the $Z$-type entries from \"create_pulse_dictionary\". But for this exercise, we simply implement the $Z$-type pulses virtually.\n",
    "\n",
    "NOTE: would it be interesting to try $X$-type and $Y$-type pulses for the $Z$-type gates?"
   ]
  },
  {
   "cell_type": "code",
   "execution_count": null,
   "id": "172b3f32",
   "metadata": {},
   "outputs": [],
   "source": [
    "def create_pulse_dictionary(self):\n",
    "\n",
    "    waveform = gaussian_pulse(self.sigma, self.mu)\n",
    "\n",
    "    pulses = {\n",
    "        \"I\": {\n",
    "            \"idata\": waveform,\n",
    "            \"qdata\": 0*waveform,\n",
    "            \"phase\": 0,\n",
    "            \"gain\": 0,\n",
    "            \"length\": self.pi_length\n",
    "            },\n",
    "        \"X\": {\n",
    "            \"idata\": waveform,\n",
    "            \"qdata\": 0*waveform,\n",
    "            \"phase\": 0,\n",
    "            \"gain\": self.pi_gain,\n",
    "            \"length\": self.pi_length\n",
    "            },\n",
    "        \"Y\": {\n",
    "            \"idata\": 0*waveform,\n",
    "            \"qdata\": waveform,\n",
    "            \"phase\": 0,\n",
    "            \"gain\": self.pi_gain,\n",
    "            \"length\": self.pi_length\n",
    "            },\n",
    "        \"Z\": {\n",
    "            \"phase_offset\": 180\n",
    "        },\n",
    "        \"X/2\": {\n",
    "            \"idata\": waveform,\n",
    "            \"qdata\": 0*waveform,\n",
    "            \"phase\": 0,\n",
    "            \"gain\": self.pi_over_2_gain,\n",
    "            \"length\": self.pi_over_2_length\n",
    "            },\n",
    "        \"Y/2\": {\n",
    "            \"idata\": 0*waveform,\n",
    "            \"qdata\": waveform,\n",
    "            \"phase\": 0,\n",
    "            \"gain\": self.pi_over_2_gain,\n",
    "            \"length\": self.pi_over_2_length\n",
    "            },\n",
    "        \"Z/2\": {\n",
    "            \"phase_offset\": 90\n",
    "            },\n",
    "        \"-X/2\": {\n",
    "            \"idata\": -1*waveform,\n",
    "            \"qdata\": 0*waveform,\n",
    "            \"phase\": 0,\n",
    "            \"gain\": self.pi_over_2_gain,\n",
    "            \"length\": self.pi_over_2_length\n",
    "            },\n",
    "        \"-Y/2\": {\n",
    "            \"idata\": 0*waveform,\n",
    "            \"qdata\": -1*waveform,\n",
    "            \"phase\": 0,\n",
    "            \"gain\": self.pi_over_2_gain,\n",
    "            \"length\": self.pi_over_2_length\n",
    "            },\n",
    "        \"-Z/2\": {\n",
    "            \"phase_offset\": -90\n",
    "        }\n",
    "    }\n",
    "\n",
    "    return pulses"
   ]
  },
  {
   "cell_type": "markdown",
   "id": "5e0298e3",
   "metadata": {},
   "source": [
    "## Single qubit RB QICK class"
   ]
  },
  {
   "cell_type": "markdown",
   "id": "7e97b6e6",
   "metadata": {},
   "source": [
    "This section contains the SingleQubitRB class, which, for a sequence of Clifford gates, plays the qubit pulses corresponding to each Clifford gate (in the order specified by the sequence), plays the pulse corresponding to the cumulative gate's inverse (using the \"clifford_set_inverses\" lookup), and then pulses the resonator and triggers the readout.\n",
    "\n",
    "For a single sequence, this is repeated \"repetitions\" number of times."
   ]
  },
  {
   "cell_type": "markdown",
   "id": "491be6df",
   "metadata": {},
   "source": [
    "NB: In order to run the experiment, the following $\\pi$ and $\\pi/2$ pulse lengths and gains need to have been calibrated already. So you need to set the folllowing class attributes:\n",
    "\n",
    "* \"pi_gain\"\n",
    "* \"pi_over_2_gain\"\n",
    "* \"pi_length\"\n",
    "* \"pi_over_2_length\"\n",
    "* \"mu\" # you may want to try setting mu to be twice sigma - that's a convention I've seen being used\n",
    "* \"sigma\"\n",
    "\n",
    "\"mu\" and \"sigma\" correspond with the Gaussian waveform input parameters.\n",
    "\n",
    "You need to set/calibrate the above things, in addition to the usual things during tune-up (such as the resonator and qubit frequencies, etc.)"
   ]
  },
  {
   "cell_type": "markdown",
   "id": "8d9dcc04",
   "metadata": {},
   "source": [
    "Disclaimer: I have NOT had a chance to test the SingleQubitRB class at all, and there are bound to be bugs hiding in it."
   ]
  },
  {
   "cell_type": "code",
   "execution_count": null,
   "id": "cc11fc93",
   "metadata": {},
   "outputs": [],
   "source": [
    "@ExperimentFactory\n",
    "class SingleQubitRB(ParametrizedProgram):\n",
    "\n",
    "    signal = Parameter('signal', type=DataParameter, source='readout_channel', trace='readout_window_length', units='', process_fnc='process_signal')\n",
    "\n",
    "    # Readout section\n",
    "    readout_channel = Parameter('Readout resonator channel')\n",
    "    readout_window_length = Parameter('Readout window length', default=2, units='us')\n",
    "    readout_trig_offset = Parameter('Readout ADC trigger offset', default=200, units='ns')\n",
    "    readout_demodulation_detuning_frequency = Parameter('Readout demodulation detuning frequency', units='MHz', default=0)\n",
    "\n",
    "    # Resonator drive section\n",
    "    resonator_drive_channel = Parameter('Resonator drive channel')\n",
    "    resonator_drive_nyquist_zone = Parameter('Resonator drive Nyquist zone', default = 2)\n",
    "\n",
    "    resonator_frequency = Parameter('Resonator frequency', units='MHz', default=5000)\n",
    "\n",
    "    resonator_drive_pulse_amplitude = Parameter('Resonator drive pulse amplitude', units='a.u.', default = 10_000)\n",
    "    resonator_drive_pulse_phase = Parameter('Resonator drive pulse phase', units='degrees', default=0)\n",
    "    resonator_drive_pulse_duration = Parameter('Resonator drive pulse duration', units='us', default=1)\n",
    "    #resonator_drive_pulse_style = Parameter(\"Resonator pulse style\")\n",
    "\n",
    "    # Qubit section\n",
    "    qubit_drive_channel = Parameter('Qubit drive channel')\n",
    "    qubit_drive_nyquist_zone = Parameter('Qubit drive Nyquist zone', default = 1)\n",
    "\n",
    "    qubit_frequency = Parameter('Qubit frequency', units='MHz', default = 4000)\n",
    "\n",
    "    pi_gain = Parameter('Qubit pi pulse amplitude/gain', units='a.u.', default = 3000)\n",
    "    #qubit_drive_pulse_phase = Parameter('Qubit drive pulse phase', units='degrees', default=0)\n",
    "    pi_length = Parameter('Qubit pi pulse duration', units='ns', default=50)\n",
    "\n",
    "    pi_over_2_gain = Parameter('Qubit pi/2 pulse amplitude/gain', units='a.u.', default = 1500)\n",
    "    #qubit_drive_pulse_phase = Parameter('Qubit drive pulse phase', units='degrees', default=0)\n",
    "    pi_over_2_length = Parameter('Qubit pi/2 pulse duration', units='ns', default=50)\n",
    "\n",
    "    mu = Parameter('Gaussian waveform mean', units='clock cycles', default = 0)\n",
    "    sigma = Parameter('Gaussian waveform standard deviation', units='clock cycles', default = 100)\n",
    "    \n",
    "    qubit_resonator_pulse_delay = Parameter('Qubit pulse & readout resonator pulse delay', units='us', default = 0.05)\n",
    "\n",
    "    relax_delay_between_shots = Parameter('Relax delay between shots', units='us', default=500) #this should be roughly 5 times the qubit T1\n",
    "\n",
    "    single_gate_sequence = Parameter('List of strings specifying a gate sequence', default=None)\n",
    "\n",
    "    repetitions = Parameter('Repetitions', default=2000)\n",
    "\n",
    "\n",
    "    def __init__(self, soc = None, soccfg = None, defaults=None):\n",
    "        super().__init__(soc, soccfg, config=defaults)\n",
    "\n",
    "\n",
    "    def process_signal(self, data, channels=None, args=None):\n",
    "        return data[0, ..., 0]\n",
    "\n",
    "    # this plays a single qubit pulse, corresponding to one of the\n",
    "    # dictionary entries in the self.pulse_set object (which in turn\n",
    "    # comes from the create_pulse_dictionary method from earlier)\n",
    "    def play_pulse(self, pulse):\n",
    "\n",
    "        # get information corresponding to the pulse to be played\n",
    "        pulse_info = self.pulse_set[pulse]\n",
    "\n",
    "        # if Z-type pulse, simply advanced the carrier's phase\n",
    "        if pulse in [\"Z\", \"Z/2\", \"-Z/2\"]:\n",
    "            self.qubit_drive_reference_phase += pulse_info[\"phase_offset\"]\n",
    "\n",
    "        # otherwise, set the register settings appropriate for the\n",
    "        # pulse, and play the pulse\n",
    "        else:\n",
    "            self.set_pulse_registers(\n",
    "                ch=self.qubit_drive_channel,\n",
    "                freq=self.freq2reg(\n",
    "                    self.qubit_frequency,\n",
    "                    gen_ch=self.qubit_drive_channel,\n",
    "                    ro_ch=self.readout_channel\n",
    "                    ),\n",
    "                phase=self.deg2reg(\n",
    "                    self.qubit_drive_reference_phase + pulse_info[\"phase\"],\n",
    "                    gen_ch=self.qubit_drive_channel\n",
    "                    ), # phase is the sum of the global reference phase and the phase of the pulse from the dictionary\n",
    "                gain=int(pulse_info[\"gain\"]), # gain of the pulse: either 0, or pi_gain or pi_over_2_gain\n",
    "                waveform=pulse, # the name of the pulse waveform. NOTE: I'm assuming that we can pre-load the waveforms in \n",
    "                                # the QICK registers using the 'add_pulse' method in the initialize section below\n",
    "                phrst=0,\n",
    "                length=self.us2cycles(\n",
    "                    pulse_info[\"length\"],\n",
    "                    gen_ch=self.qubit_drive_channel\n",
    "                    ), # pulse length either corresponding to pi_length or pi_over_2_length\n",
    "                mode=\"oneshot\" #NOTE: 'oneshot' seems correct, although I'm not 100% sure what mode to use here\n",
    "            ) # NOTE: do we need a \"style\" argument in the set_pulse_registers method above. I don't think so but I'm not sure\n",
    "\n",
    "            # actually play the pulse using the register settings we just set\n",
    "\n",
    "            self.pulse(ch=self.qubit_drive_channel)\n",
    "\n",
    "    # Play the sequence of pulses corresponding to the self.single_gate_sequence\n",
    "    # list, and finally play the pulse corresponding to the inverse gate\n",
    "    def play_sequence(self):\n",
    "\n",
    "        self.current_state = \"I\"\n",
    "\n",
    "        for clifford_gate in self.single_gate_sequence:\n",
    "            for pulse in clifford_gate.split(\",\"):\n",
    "\n",
    "                self.play_pulse(pulse)\n",
    "\n",
    "                # NOTE: I'm not sure if we need to call some sort\n",
    "                # of 'wait' or 'sync' method in order to wait until\n",
    "                # the above pulse is finished playing before the next\n",
    "                # one is played, or else if we should implement some sort\n",
    "                # of delay between pulses which comprise the Clifford gates.\n",
    "                # We will definitely need to add a modification here\n",
    "                # when we try two-qubit benchmarking, in order to sync\n",
    "                # simultaneously pulses between different qubits\n",
    "            \n",
    "            # update the theoretical unitary so far\n",
    "            current_state = single_qubit_cayley_table[(current_state, clifford_gate)]\n",
    "\n",
    "        # compute the inverse gate, and then play it\n",
    "        inverse_gate = clifford_set_inverses[current_state]\n",
    "        self.play_pulse(inverse_gate)\n",
    "\n",
    "    \n",
    "    def initialize(self):\n",
    "\n",
    "        # set reference phase to start at 0 - this is for any virtual Z pulses\n",
    "        self.qubit_drive_reference_phase = 0\n",
    "\n",
    "        # get the pulse dictionary\n",
    "        self.pulse_set = create_pulse_dictionary()\n",
    "\n",
    "\n",
    "        # RESONATOR DRIVE SECTION #\n",
    "        self.declare_gen(ch = self.resonator_drive_channel, nqz = self.resonator_drive_nyquist_zone)\n",
    "\n",
    "        res_freq = self.freq2reg(self.resonator_frequency, gen_ch = self.resonator_drive_channel, ro_ch = self.readout_channel)\n",
    "        res_amp = int(self.resonator_drive_pulse_amplitude)\n",
    "        res_phase = self.deg2reg(self.resonator_drive_pulse_phase, gen_ch=self.resonator_drive_channel)\n",
    "        res_length = self.us2cycles(self.resonator_drive_pulse_duration, gen_ch=self.resonator_drive_channel)\n",
    "\n",
    "        # res_pulse_style = self.resonator_drive_pulse_style\n",
    "        # NOTE: Do we want to uncomment the above resonator drive pulse style, and use\n",
    "        # it in the set_pulse_register call below? Right now the pulse style is 'const',\n",
    "        # which corresponds to a constant square waveform.\n",
    "        # If we change the res_pulse_style to a Gaussian, it could technically be a different waveform\n",
    "        # from the Gaussian used to construct the qubit pulse library (different in terms of sigma and mu)\n",
    "                        \n",
    "        self.set_pulse_registers(\n",
    "            ch = self.resonator_drive_channel,\n",
    "            style = 'const', # TODO change the pulse style?\n",
    "            length = res_length,\n",
    "            freq = res_freq,\n",
    "            phase = res_phase,\n",
    "            gain = res_amp\n",
    "        )\n",
    "\n",
    "\n",
    "        # RESONATOR READOUT SECTION #\n",
    "        demod_freq = self.resonator_frequency + self.readout_demodulation_detuning_frequency\n",
    "        readout_length = self.us2cycles(self.readout_window_length, ro_ch = self.readout_channel)\n",
    "\n",
    "        self.declare_readout(ch=self.readout_channel, length=readout_length, freq=demod_freq, gen_ch = self.resonator_drive_channel)\n",
    "\n",
    "\n",
    "        # QUBIT SECTION #\n",
    "\n",
    "        self.declare_gen(ch = self.qubit_drive_channel, nqz = self.qubit_drive_nyquist_zone)\n",
    "        self.default_pulse_registers(ch=self.qubit_drive_channel, style=\"arb\")\n",
    "        # NOTE: do we need this? I'm not sure that we do, given that we're specifying\n",
    "        # the I and Q for each pulse\n",
    "\n",
    "        # QUBIT PULSE LIBRARY SECTION #\n",
    "        # load the dictionary of pulses that will be played by the\n",
    "        # \"play_pulse\" method - it's specified in that method via the\n",
    "        # \"waveform\" argument in self.set_pulse_registers\n",
    "        # NOTE: I'm hoping that we can load all of the I and Q waveforms\n",
    "        # in memory and simply change their gains, phases, etc., on\n",
    "        # the fly in the play_pulse method, but I'm not totally sure\n",
    "\n",
    "        for k, v in self.pulse_set.items():\n",
    "\n",
    "            self.add_pulse(\n",
    "                ch=self.qubit_drive_channel,\n",
    "                name=k,\n",
    "                idata=v[\"idata\"],\n",
    "                qdata=v[\"qdata\"],\n",
    "            )\n",
    "        \n",
    "        # GATE SEQUENCE CHECK #\n",
    "        # the random gate sequence we wish to play, cannot be None\n",
    "\n",
    "        if self.single_gate_sequence == None:\n",
    "            raise TypeError(\"You need to define a gate sequence.\")\n",
    "\n",
    "        self.sync_all(self.us2cycles(100))\n",
    "\n",
    "\n",
    "    def body(self):\n",
    "\n",
    "        # play the sequence of pulses defined by the single_gate_sequence parameter\n",
    "        self.play_sequence()\n",
    "        \n",
    "        # set a delay between playing the last pulse in the sequence of qubit pulses, and\n",
    "        # pulsing the resonator\n",
    "        self.sync_all(\n",
    "            self.us2cycles(\n",
    "                self.qubit_resonator_pulse_delay,\n",
    "                gen_ch=self.qubit_drive_channel\n",
    "            )\n",
    "        )\n",
    "        \n",
    "        # pulse the readout resonator and trigger the adc to read out the\n",
    "        # resonator state\n",
    "        self.pulse(ch=self.resonator_drive_channel)\n",
    "        self.trigger(\n",
    "            adcs=[self.readout_channel],\n",
    "            adc_trig_offset=self.us2cycles(self.readout_trig_offset)\n",
    "        )\n",
    "\n",
    "        # after triggering the adc data collection, call sync_all to wait\n",
    "        # a certain amount of time before the next iteration of the\n",
    "        # enclosing 'body' method\n",
    "                \n",
    "        self.wait_all()\n",
    "        self.sync_all(self.us2cycles(self.relax_delay_between_shots))"
   ]
  },
  {
   "cell_type": "markdown",
   "id": "cd3e420f",
   "metadata": {},
   "source": [
    "# Run single-qubit RB measurement"
   ]
  },
  {
   "cell_type": "code",
   "execution_count": null,
   "id": "61a6929b",
   "metadata": {},
   "outputs": [],
   "source": [
    "prg = SingleQubitRB(soc=soc, soccfg=soccfg)\n",
    "prg.debug_traces = False"
   ]
  },
  {
   "cell_type": "markdown",
   "id": "301a81e6",
   "metadata": {},
   "source": [
    "Set some of the usual class attributes that you're used to."
   ]
  },
  {
   "cell_type": "code",
   "execution_count": null,
   "id": "c1ac83b3",
   "metadata": {},
   "outputs": [],
   "source": [
    "prg.readout_channel = 0\n",
    "prg.readout_window_length = 1\n",
    "prg.readout_trig_offset = 200\n",
    "prg.readout_demodulation_detuning_frequency = 0\n",
    "\n",
    "prg.resonator_drive_channel = 1\n",
    "prg.resonator_drive_nyquist_zone = 2\n",
    "\n",
    "prg.resonator_frequency = 5_000\n",
    "\n",
    "prg.resonator_drive_pulse_amplitude = 10_000\n",
    "prg.resonator_drive_pulse_phase = 0\n",
    "prg.resonator_drive_pulse_duration = 1\n",
    "\n",
    "prg.qubit_drive_channel = 2\n",
    "prg.qubit_drive_nyquist_zone = 1\n",
    "\n",
    "prg.qubit_frequency = 4_000\n",
    "\n",
    "prg.sigma = soc.us2cycles(0.01, gen_ch=prg.qubit_drive_channel) # NOTE: check that the getter of prg actually returns the value - I'm not sure how the getter for the prg object is set up\n",
    "prg.mu = 2*prg.sigma\n",
    "\n",
    "prg.qubit_resonator_pulse_delay = 0.05\n",
    "\n",
    "prg.relax_delay_between_shots = 500 # this should be bigger than 5 times the expected/measured qubit T1\n",
    "\n",
    "prg.repetitions = 2000 # for every unique clifford sequence, take this many IQ single shot measurements - we do not want to average the 2000 shots yet"
   ]
  },
  {
   "cell_type": "markdown",
   "id": "737e4874",
   "metadata": {},
   "source": [
    "Calibrate the following parameters before running the measurement:\n",
    "\n",
    "* pi_gain is the gain, in arbitrary DAC units, of the $\\pi$ pulses that are played in the \"play_pulse\" method of the SingleQubitRB class\n",
    "* pi_length is the time length, in $\\mu s$, of the $\\pi$ pulses that are played in the \"play_pulse\" method of the SingleQubitRB class\n",
    "* pi_over_2_gain is the gain, in arbitrary DAC units, of the $\\pi/2$ pulses that are played in the \"play_pulse\" method of the SingleQubitRB class\n",
    "* pi_over_2_length is the time length, in $\\mu s$, of the $\\pi/2$ pulses that are played in the \"play_pulse\" method of the SingleQubitRB class"
   ]
  },
  {
   "cell_type": "code",
   "execution_count": null,
   "id": "b29ed198",
   "metadata": {},
   "outputs": [],
   "source": [
    "prg.pi_gain = 3000\n",
    "prg.pi_length = 0.05\n",
    "\n",
    "prg.pi_over_2_gain = 1500\n",
    "prg.pi_over_2_length = 50"
   ]
  },
  {
   "cell_type": "markdown",
   "id": "b898e09e",
   "metadata": {},
   "source": [
    "## One random Clifford gate sequence"
   ]
  },
  {
   "cell_type": "markdown",
   "id": "dc4c9b3d",
   "metadata": {},
   "source": [
    "Update the single_gate_sequence to a new one of length 5. This subsection is mainly for you to test whether everything appears to be working."
   ]
  },
  {
   "cell_type": "code",
   "execution_count": null,
   "id": "93be5225",
   "metadata": {},
   "outputs": [],
   "source": [
    "prg.single_gate_sequence = random.choices(clifford_group, k=5)"
   ]
  },
  {
   "cell_type": "markdown",
   "id": "b7269931",
   "metadata": {},
   "source": [
    "NB: You should save the single_gate_sequence (perhaps in a csv file or pandas dataframe - in the next subsection I'll use a pickle dictionary for simplicity)"
   ]
  },
  {
   "cell_type": "markdown",
   "id": "ec76d3a9",
   "metadata": {},
   "source": [
    "The following actually executes the experment - you may need to change some of the .execute parameters."
   ]
  },
  {
   "cell_type": "code",
   "execution_count": null,
   "id": "ff0fbaa8",
   "metadata": {},
   "outputs": [],
   "source": [
    "ds = prg.execute(f'<SPECIFY DIRECTORY WHERE DATA WILL BE SAVED, HERE>', suffix = 'test', grid = (), show_progress = show_progress)"
   ]
  },
  {
   "cell_type": "markdown",
   "id": "90cbe3f8",
   "metadata": {},
   "source": [
    "Once the experiment is complete, you would access the data by indexing the ds object above - I haven't had time to test how to access the data inside ds itself and parse it, but you guys should be able to figure this out yourselves."
   ]
  },
  {
   "cell_type": "code",
   "execution_count": null,
   "id": "f30a2bcf",
   "metadata": {},
   "outputs": [],
   "source": [
    "# data, axes, labels, legends = [None], [None], [None], [None]\n",
    "\n",
    "# data[i], axes[i], labels[i], legends[i] = ds[-1].take(f\"signal\")\n",
    "\n",
    "data, axes, labels, legends = ds.take(f\"signal\")"
   ]
  },
  {
   "cell_type": "markdown",
   "id": "e224df53",
   "metadata": {},
   "source": [
    "## Full experiment - multiple repetitions over multiple random sequences, over many different sequence lengths"
   ]
  },
  {
   "cell_type": "markdown",
   "id": "37949e57",
   "metadata": {},
   "source": [
    "The following should run the actual RB experiment in full"
   ]
  },
  {
   "cell_type": "code",
   "execution_count": null,
   "id": "07e0db9c",
   "metadata": {},
   "outputs": [],
   "source": [
    "import csv\n",
    " \n",
    "fields = ['Sequence index', 'Sequence']\n",
    "\n",
    "for n in [1, 2, 3, 4, 5, 6, 7, 8, 9, 10, 15, 20]: # Clifford sequence lengths\n",
    "\n",
    "    with open(f\"/Users/nbornman-local/Desktop/clifford_sequence_length_{n}.csv\", \"w\") as sequence_file:\n",
    "\n",
    "        sequence_writer = csv.writer(sequence_file)\n",
    "\n",
    "        sequence_writer.writerow(fields)\n",
    "\n",
    "        for i in range(0, 1_000): # the number of sequences of length \"n\" we'll run\n",
    "\n",
    "            sequence = random.choices(clifford_group, k=n)\n",
    "\n",
    "            prg.single_gate_sequence = sequence\n",
    "\n",
    "            ds = prg.execute(f'single_qubit_RB_data_length_{n}_sequence_{i}', suffix = '', grid = (), show_progress = show_progress)\n",
    "\n",
    "            sequence_writer.writerow([i, sequence])\n",
    "        \n",
    "        print(\"Completed experiments for length {n}\\n\")"
   ]
  },
  {
   "cell_type": "markdown",
   "id": "e19d253e",
   "metadata": {},
   "source": [
    "That's it!"
   ]
  }
 ],
 "metadata": {
  "kernelspec": {
   "display_name": "Python 3 (ipykernel)",
   "language": "python",
   "name": "python3"
  },
  "language_info": {
   "codemirror_mode": {
    "name": "ipython",
    "version": 3
   },
   "file_extension": ".py",
   "mimetype": "text/x-python",
   "name": "python",
   "nbconvert_exporter": "python",
   "pygments_lexer": "ipython3",
   "version": "3.12.2"
  }
 },
 "nbformat": 4,
 "nbformat_minor": 5
}
